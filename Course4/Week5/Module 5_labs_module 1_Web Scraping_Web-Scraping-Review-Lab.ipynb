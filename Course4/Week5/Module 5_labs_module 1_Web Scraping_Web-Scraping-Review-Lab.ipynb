{
  "metadata": {
    "kernelspec": {
      "name": "python",
      "display_name": "Pyolite",
      "language": "python"
    },
    "language_info": {
      "codemirror_mode": {
        "name": "python",
        "version": 3
      },
      "file_extension": ".py",
      "mimetype": "text/x-python",
      "name": "python",
      "nbconvert_exporter": "python",
      "pygments_lexer": "ipython3",
      "version": "3.8"
    },
    "metadata": {
      "interpreter": {
        "hash": "aee8b7b246df8f9039afb4144a1f6fd8d2ca17a180786b69acc140d282b71a49"
      }
    }
  },
  "nbformat_minor": 4,
  "nbformat": 4,
  "cells": [
    {
      "cell_type": "markdown",
      "source": "<center>\n    <img src=\"https://cf-courses-data.s3.us.cloud-object-storage.appdomain.cloud/IBMDeveloperSkillsNetwork-PY0101EN-SkillsNetwork/IDSNlogo.png\" width=\"300\" alt=\"cognitiveclass.ai logo\"  />\n</center>\n",
      "metadata": {}
    },
    {
      "cell_type": "markdown",
      "source": "# **Web Scraping Lab**\n",
      "metadata": {}
    },
    {
      "cell_type": "markdown",
      "source": "Estimated time needed: **30** minutes\n",
      "metadata": {}
    },
    {
      "cell_type": "markdown",
      "source": "## Objectives\n",
      "metadata": {}
    },
    {
      "cell_type": "markdown",
      "source": "After completing this lab you will be:\n\n*   Familiar with the basics of the `BeautifulSoup` Python library\n*   Be able to scrape webpages for data and filter the data\n",
      "metadata": {}
    },
    {
      "cell_type": "markdown",
      "source": "<h2>Table of Contents</h2>\n<div class=\"alert alert-block alert-info\" style=\"margin-top: 20px\">\n    <ul>\n        <li>\n            <a href=\"https://bso/?utm_medium=Exinfluencer&utm_source=Exinfluencer&utm_content=000026UJ&utm_term=10006555&utm_id=NA-SkillsNetwork-Channel-SkillsNetworkCoursesIBMDeveloperSkillsNetworkPY0101ENSkillsNetwork19487395-2021-01-01\">Beautiful Soup Object</a>\n            <ul>\n                <li>Tag</li>\n                <li>Children, Parents, and Siblings</li>\n                <li>HTML Attributes</li>\n                <li>Navigable String</li>\n            </ul>\n        </li>\n     </ul>\n    <ul>\n        <li>\n            <a href=\"https://filter/?utm_medium=Exinfluencer&utm_source=Exinfluencer&utm_content=000026UJ&utm_term=10006555&utm_id=NA-SkillsNetwork-Channel-SkillsNetworkCoursesIBMDeveloperSkillsNetworkPY0101ENSkillsNetwork19487395-2021-01-01\">Filter</a>\n            <ul>\n                <li>find All</li>\n                <li>find </li>\n                <li>HTML Attributes</li>\n                <li>Navigable String</li>\n            </ul>\n        </li>\n     </ul>\n     <ul>\n        <li>\n            <a href=\"https://dscw/?utm_medium=Exinfluencer&utm_source=Exinfluencer&utm_content=000026UJ&utm_term=10006555&utm_id=NA-SkillsNetwork-Channel-SkillsNetworkCoursesIBMDeveloperSkillsNetworkPY0101ENSkillsNetwork19487395-2021-01-01\">Downloading And Scraping The Contents Of A Web</a>\n    </p>\n\n</div>\n\n<hr>\n",
      "metadata": {}
    },
    {
      "cell_type": "markdown",
      "source": "For this lab, we are going to be using Python and several Python libraries. Some of these libraries might be installed in your lab environment or in SN Labs. Others may need to be installed by you. The cells below will install these libraries when executed.\n",
      "metadata": {}
    },
    {
      "cell_type": "code",
      "source": "!pip install bs4\n#!pip install requests",
      "metadata": {},
      "execution_count": null,
      "outputs": []
    },
    {
      "cell_type": "markdown",
      "source": "Import the required modules and functions\n",
      "metadata": {}
    },
    {
      "cell_type": "code",
      "source": "from bs4 import BeautifulSoup # this module helps in web scrapping.\nimport requests  # this module helps us to download a web page",
      "metadata": {},
      "execution_count": null,
      "outputs": []
    },
    {
      "cell_type": "markdown",
      "source": "<h2 id=\"BSO\">Beautiful Soup Objects</h2>\n",
      "metadata": {}
    },
    {
      "cell_type": "markdown",
      "source": "Beautiful Soup is a Python library for pulling data out of HTML and XML files, we will focus on HTML files. This is accomplished by representing the HTML as a set of objects with methods used to parse the HTML.  We can navigate the HTML as a tree, and/or filter out what we are looking for.\n\nConsider the following HTML:\n",
      "metadata": {}
    },
    {
      "cell_type": "code",
      "source": "%%html\n<!DOCTYPE html>\n<html>\n<head>\n<title>Page Title</title>\n</head>\n<body>\n<h3><b id='boldest'>Lebron James</b></h3>\n<p> Salary: $ 92,000,000 </p>\n<h3> Stephen Curry</h3>\n<p> Salary: $85,000, 000 </p>\n<h3> Kevin Durant </h3>\n<p> Salary: $73,200, 000</p>\n</body>\n</html>",
      "metadata": {},
      "execution_count": null,
      "outputs": []
    },
    {
      "cell_type": "markdown",
      "source": "We can store it as a string in the variable HTML:\n",
      "metadata": {}
    },
    {
      "cell_type": "code",
      "source": "html=\"<!DOCTYPE html><html><head><title>Page Title</title></head><body><h3><b id='boldest'>Lebron James</b></h3><p> Salary: $ 92,000,000 </p><h3> Stephen Curry</h3><p> Salary: $85,000, 000 </p><h3> Kevin Durant </h3><p> Salary: $73,200, 000</p></body></html>\"",
      "metadata": {},
      "execution_count": null,
      "outputs": []
    },
    {
      "cell_type": "markdown",
      "source": "To parse a document, pass it into the <code>BeautifulSoup</code> constructor. The <code>BeautifulSoup</code> object represents the document as a nested data structure:\n",
      "metadata": {}
    },
    {
      "cell_type": "code",
      "source": "soup = BeautifulSoup(html, 'html5lib')",
      "metadata": {},
      "execution_count": null,
      "outputs": []
    },
    {
      "cell_type": "markdown",
      "source": "First, the document is converted to Unicode (similar to ASCII) and HTML entities are converted to Unicode characters. Beautiful Soup transforms a complex HTML document into a complex tree of Python objects. The <code>BeautifulSoup</code> object can create other types of objects. In this lab, we will cover <code>BeautifulSoup</code> and <code>Tag</code> objects, that for the purposes of this lab are identical. Finally, we will look at <code>NavigableString</code> objects.\n",
      "metadata": {}
    },
    {
      "cell_type": "markdown",
      "source": "We can use the method <code>prettify()</code> to display the HTML in the nested structure:\n",
      "metadata": {}
    },
    {
      "cell_type": "code",
      "source": "print(soup.prettify())",
      "metadata": {},
      "execution_count": null,
      "outputs": []
    },
    {
      "cell_type": "markdown",
      "source": "## Tags\n",
      "metadata": {}
    },
    {
      "cell_type": "markdown",
      "source": "Let's say we want the  title of the page and the name of the top paid player. We can use the <code>Tag</code>. The <code>Tag</code> object corresponds to an HTML tag in the original document, for example, the tag title.\n",
      "metadata": {}
    },
    {
      "cell_type": "code",
      "source": "tag_object=soup.title\nprint(\"tag object:\",tag_object)",
      "metadata": {},
      "execution_count": null,
      "outputs": []
    },
    {
      "cell_type": "markdown",
      "source": "we can see the tag type <code>bs4.element.Tag</code>\n",
      "metadata": {}
    },
    {
      "cell_type": "code",
      "source": "print(\"tag object type:\",type(tag_object))",
      "metadata": {},
      "execution_count": null,
      "outputs": []
    },
    {
      "cell_type": "markdown",
      "source": "If there is more than one <code>Tag</code> with the same name, the first element with that <code>Tag</code> name is called. This corresponds to the most paid player:\n",
      "metadata": {}
    },
    {
      "cell_type": "code",
      "source": "tag_object=soup.h3\ntag_object",
      "metadata": {},
      "execution_count": null,
      "outputs": []
    },
    {
      "cell_type": "markdown",
      "source": "Enclosed in the bold attribute <code>b</code>, it helps to use the tree representation. We can navigate down the tree using the child attribute to get the name.\n",
      "metadata": {}
    },
    {
      "cell_type": "markdown",
      "source": "### Children, Parents, and Siblings\n",
      "metadata": {}
    },
    {
      "cell_type": "markdown",
      "source": "As stated above, the <code>Tag</code> object is a tree of objects. We can access the child of the tag or navigate down the branch as follows:\n",
      "metadata": {}
    },
    {
      "cell_type": "code",
      "source": "tag_child =tag_object.b\ntag_child",
      "metadata": {},
      "execution_count": null,
      "outputs": []
    },
    {
      "cell_type": "markdown",
      "source": "You can access the parent with the <code> parent</code>\n",
      "metadata": {}
    },
    {
      "cell_type": "code",
      "source": "parent_tag=tag_child.parent\nparent_tag",
      "metadata": {},
      "execution_count": null,
      "outputs": []
    },
    {
      "cell_type": "markdown",
      "source": "this is identical to:\n",
      "metadata": {}
    },
    {
      "cell_type": "code",
      "source": "tag_object",
      "metadata": {},
      "execution_count": null,
      "outputs": []
    },
    {
      "cell_type": "markdown",
      "source": "<code>tag_object</code> parent is the <code>body</code> element.\n",
      "metadata": {}
    },
    {
      "cell_type": "code",
      "source": "tag_object.parent",
      "metadata": {},
      "execution_count": null,
      "outputs": []
    },
    {
      "cell_type": "markdown",
      "source": "<code>tag_object</code> sibling is the <code>paragraph</code> element\n",
      "metadata": {}
    },
    {
      "cell_type": "code",
      "source": "sibling_1=tag_object.next_sibling\nsibling_1",
      "metadata": {},
      "execution_count": null,
      "outputs": []
    },
    {
      "cell_type": "markdown",
      "source": "`sibling_2` is the `header` element, which is also a sibling of both `sibling_1` and `tag_object`\n",
      "metadata": {}
    },
    {
      "cell_type": "code",
      "source": "sibling_2=sibling_1.next_sibling\nsibling_2",
      "metadata": {},
      "execution_count": null,
      "outputs": []
    },
    {
      "cell_type": "markdown",
      "source": "<h3 id=\"first_question\">Exercise: <code>next_sibling</code></h3>\n",
      "metadata": {}
    },
    {
      "cell_type": "markdown",
      "source": "Use the object <code>sibling\\_2</code> and the method <code>next_sibling</code> to find the salary of Stephen Curry:\n",
      "metadata": {}
    },
    {
      "cell_type": "code",
      "source": "",
      "metadata": {},
      "execution_count": null,
      "outputs": []
    },
    {
      "cell_type": "markdown",
      "source": "<details><summary>Click here for the solution</summary>\n\n```\nsibling_2.next_sibling\n\n```\n\n</details>\n",
      "metadata": {}
    },
    {
      "cell_type": "markdown",
      "source": "### HTML Attributes\n",
      "metadata": {}
    },
    {
      "cell_type": "markdown",
      "source": "If the tag has attributes, the tag <code>id=\"boldest\"</code> has an attribute <code>id</code> whose value is <code>boldest</code>. You can access a tag’s attributes by treating the tag like a dictionary:\n",
      "metadata": {}
    },
    {
      "cell_type": "code",
      "source": "tag_child['id']",
      "metadata": {},
      "execution_count": null,
      "outputs": []
    },
    {
      "cell_type": "markdown",
      "source": "You can access that dictionary directly as <code>attrs</code>:\n",
      "metadata": {}
    },
    {
      "cell_type": "code",
      "source": "tag_child.attrs",
      "metadata": {},
      "execution_count": null,
      "outputs": []
    },
    {
      "cell_type": "markdown",
      "source": "You can also work with Multi-valued attributes. Check out <a href=\"https://www.crummy.com/software/BeautifulSoup/bs4/doc/?utm_medium=Exinfluencer&utm_source=Exinfluencer&utm_content=000026UJ&utm_term=10006555&utm_id=NA-SkillsNetwork-Channel-SkillsNetworkCoursesIBMDeveloperSkillsNetworkPY0101ENSkillsNetwork19487395-2021-01-01\">\\[1]</a> for more.\n",
      "metadata": {}
    },
    {
      "cell_type": "markdown",
      "source": "We can also obtain the content of the attribute of the <code>tag</code> using the Python <code>get()</code> method.\n",
      "metadata": {}
    },
    {
      "cell_type": "code",
      "source": "tag_child.get('id')",
      "metadata": {},
      "execution_count": null,
      "outputs": []
    },
    {
      "cell_type": "markdown",
      "source": "### Navigable String\n",
      "metadata": {}
    },
    {
      "cell_type": "markdown",
      "source": "A string corresponds to a bit of text or content within a tag. Beautiful Soup uses the <code>NavigableString</code> class to contain this text. In our HTML we can obtain the name of the first player by extracting the string of the <code>Tag</code> object <code>tag_child</code> as follows:\n",
      "metadata": {}
    },
    {
      "cell_type": "code",
      "source": "tag_string=tag_child.string\ntag_string",
      "metadata": {},
      "execution_count": null,
      "outputs": []
    },
    {
      "cell_type": "markdown",
      "source": "we can verify the type is Navigable String\n",
      "metadata": {}
    },
    {
      "cell_type": "code",
      "source": "type(tag_string)",
      "metadata": {},
      "execution_count": null,
      "outputs": []
    },
    {
      "cell_type": "markdown",
      "source": "A NavigableString is similar to a Python string or Unicode string. To be more precise, the main difference is that it also supports some <code>BeautifulSoup</code> features. We can convert it to string object in Python:\n",
      "metadata": {}
    },
    {
      "cell_type": "code",
      "source": "unicode_string = str(tag_string)\nunicode_string",
      "metadata": {},
      "execution_count": null,
      "outputs": []
    },
    {
      "cell_type": "markdown",
      "source": "<h2 id=\"filter\">Filter</h2>\n",
      "metadata": {}
    },
    {
      "cell_type": "markdown",
      "source": "Filters allow you to find complex patterns, the simplest filter is a string. In this section we will pass a string to a different filter method and Beautiful Soup will perform a match against that exact string. Consider the following HTML of rocket launches:\n",
      "metadata": {}
    },
    {
      "cell_type": "code",
      "source": "%%html\n<table>\n  <tr>\n    <td id='flight' >Flight No</td>\n    <td>Launch site</td> \n    <td>Payload mass</td>\n   </tr>\n  <tr> \n    <td>1</td>\n    <td><a href='https://en.wikipedia.org/wiki/Florida'>Florida</a></td>\n    <td>300 kg</td>\n  </tr>\n  <tr>\n    <td>2</td>\n    <td><a href='https://en.wikipedia.org/wiki/Texas'>Texas</a></td>\n    <td>94 kg</td>\n  </tr>\n  <tr>\n    <td>3</td>\n    <td><a href='https://en.wikipedia.org/wiki/Florida'>Florida<a> </td>\n    <td>80 kg</td>\n  </tr>\n</table>",
      "metadata": {},
      "execution_count": null,
      "outputs": []
    },
    {
      "cell_type": "markdown",
      "source": "We can store it as a string in the variable <code>table</code>:\n",
      "metadata": {}
    },
    {
      "cell_type": "code",
      "source": "table=\"<table><tr><td id='flight'>Flight No</td><td>Launch site</td> <td>Payload mass</td></tr><tr> <td>1</td><td><a href='https://en.wikipedia.org/wiki/Florida'>Florida<a></td><td>300 kg</td></tr><tr><td>2</td><td><a href='https://en.wikipedia.org/wiki/Texas'>Texas</a></td><td>94 kg</td></tr><tr><td>3</td><td><a href='https://en.wikipedia.org/wiki/Florida'>Florida<a> </td><td>80 kg</td></tr></table>\"",
      "metadata": {},
      "execution_count": null,
      "outputs": []
    },
    {
      "cell_type": "code",
      "source": "table_bs = BeautifulSoup(table, 'html5lib')",
      "metadata": {},
      "execution_count": null,
      "outputs": []
    },
    {
      "cell_type": "markdown",
      "source": "## find All\n",
      "metadata": {}
    },
    {
      "cell_type": "markdown",
      "source": "The <code>find_all()</code> method looks through a tag’s descendants and retrieves all descendants that match your filters.\n\n<p>\nThe Method signature for <code>find_all(name, attrs, recursive, string, limit, **kwargs)<c/ode>\n</p>\n",
      "metadata": {}
    },
    {
      "cell_type": "markdown",
      "source": "### Name\n",
      "metadata": {}
    },
    {
      "cell_type": "markdown",
      "source": "When we set the <code>name</code> parameter to a tag name, the method will extract all the tags with that name and its children.\n",
      "metadata": {}
    },
    {
      "cell_type": "code",
      "source": "table_rows=table_bs.find_all('tr')\ntable_rows",
      "metadata": {},
      "execution_count": null,
      "outputs": []
    },
    {
      "cell_type": "markdown",
      "source": "The result is a Python Iterable just like a list, each element is a <code>tag</code> object:\n",
      "metadata": {}
    },
    {
      "cell_type": "code",
      "source": "first_row =table_rows[0]\nfirst_row",
      "metadata": {},
      "execution_count": null,
      "outputs": []
    },
    {
      "cell_type": "markdown",
      "source": "The type is <code>tag</code>\n",
      "metadata": {}
    },
    {
      "cell_type": "code",
      "source": "print(type(first_row))",
      "metadata": {},
      "execution_count": null,
      "outputs": []
    },
    {
      "cell_type": "markdown",
      "source": "we can obtain the child\n",
      "metadata": {}
    },
    {
      "cell_type": "code",
      "source": "first_row.td",
      "metadata": {},
      "execution_count": null,
      "outputs": []
    },
    {
      "cell_type": "markdown",
      "source": "If we iterate through the list, each element corresponds to a row in the table:\n",
      "metadata": {}
    },
    {
      "cell_type": "code",
      "source": "for i,row in enumerate(table_rows):\n    print(\"row\",i,\"is\",row)\n    ",
      "metadata": {},
      "execution_count": null,
      "outputs": []
    },
    {
      "cell_type": "markdown",
      "source": "As <code>row</code> is a <code>cell</code> object, we can apply the method <code>find_all</code> to it and extract table cells in the object <code>cells</code> using the tag <code>td</code>, this is all the children with the name <code>td</code>. The result is a list, each element corresponds to a cell and is a <code>Tag</code> object, we can iterate through this list as well. We can extract the content using the <code>string</code> attribute.\n",
      "metadata": {}
    },
    {
      "cell_type": "code",
      "source": "for i,row in enumerate(table_rows):\n    print(\"row\",i)\n    cells=row.find_all('td')\n    for j,cell in enumerate(cells):\n        print('colunm',j,\"cell\",cell)",
      "metadata": {},
      "execution_count": null,
      "outputs": []
    },
    {
      "cell_type": "markdown",
      "source": "If we use a list we can match against any item in that list.\n",
      "metadata": {}
    },
    {
      "cell_type": "code",
      "source": "list_input=table_bs .find_all(name=[\"tr\", \"td\"])\nlist_input",
      "metadata": {},
      "execution_count": null,
      "outputs": []
    },
    {
      "cell_type": "markdown",
      "source": "## Attributes\n",
      "metadata": {}
    },
    {
      "cell_type": "markdown",
      "source": "If the argument is not recognized it will be turned into a filter on the tag’s attributes. For example with the <code>id</code> argument, Beautiful Soup will filter against each tag’s <code>id</code> attribute. For example, the first <code>td</code> elements have a value of <code>id</code> of <code>flight</code>, therefore we can filter based on that <code>id</code> value.\n",
      "metadata": {}
    },
    {
      "cell_type": "code",
      "source": "table_bs.find_all(id=\"flight\")",
      "metadata": {},
      "execution_count": null,
      "outputs": []
    },
    {
      "cell_type": "markdown",
      "source": "We can find all the elements that have links to the Florida Wikipedia page:\n",
      "metadata": {}
    },
    {
      "cell_type": "code",
      "source": "list_input=table_bs.find_all(href=\"https://en.wikipedia.org/wiki/Florida\")\nlist_input",
      "metadata": {},
      "execution_count": null,
      "outputs": []
    },
    {
      "cell_type": "markdown",
      "source": "If we set the <code>href</code> attribute to True, regardless of what the value is, the code finds all tags with <code>href</code> value:\n",
      "metadata": {}
    },
    {
      "cell_type": "code",
      "source": "table_bs.find_all(href=True)",
      "metadata": {},
      "execution_count": null,
      "outputs": []
    },
    {
      "cell_type": "markdown",
      "source": "There are other methods for dealing with attributes and other related methods. Check out the following <a href='https://www.crummy.com/software/BeautifulSoup/bs4/doc/?utm_medium=Exinfluencer&utm_source=Exinfluencer&utm_content=000026UJ&utm_term=10006555&utm_id=NA-SkillsNetwork-Channel-SkillsNetworkCoursesIBMDeveloperSkillsNetworkPY0101ENSkillsNetwork19487395-2021-01-01#css-selectors'>link</a>\n",
      "metadata": {}
    },
    {
      "cell_type": "markdown",
      "source": "<h3 id=\"exer_type\">Exercise: <code>find_all</code></h3>\n",
      "metadata": {}
    },
    {
      "cell_type": "markdown",
      "source": "Using the logic above, find all the elements without <code>href</code> value\n",
      "metadata": {}
    },
    {
      "cell_type": "code",
      "source": "",
      "metadata": {},
      "execution_count": null,
      "outputs": []
    },
    {
      "cell_type": "markdown",
      "source": "<details><summary>Click here for the solution</summary>\n\n```\ntable_bs.find_all(href=False)\n\n```\n\n</details>\n",
      "metadata": {}
    },
    {
      "cell_type": "markdown",
      "source": "Using the soup object <code>soup</code>, find the element with the <code>id</code> attribute content set to <code>\"boldest\"</code>.\n",
      "metadata": {}
    },
    {
      "cell_type": "code",
      "source": "",
      "metadata": {},
      "execution_count": null,
      "outputs": []
    },
    {
      "cell_type": "markdown",
      "source": "<details><summary>Click here for the solution</summary>\n\n```\nsoup.find_all(id=\"boldest\")\n\n```\n\n</details>\n",
      "metadata": {}
    },
    {
      "cell_type": "markdown",
      "source": "### string\n",
      "metadata": {}
    },
    {
      "cell_type": "markdown",
      "source": "With string you can search for strings instead of tags, where we find all the elments with Florida:\n",
      "metadata": {}
    },
    {
      "cell_type": "code",
      "source": "table_bs.find_all(string=\"Florida\")",
      "metadata": {},
      "execution_count": null,
      "outputs": []
    },
    {
      "cell_type": "markdown",
      "source": "## find\n",
      "metadata": {}
    },
    {
      "cell_type": "markdown",
      "source": "The <code>find_all()</code> method scans the entire document looking for results. It’s useful if you are looking for one element, as you can use the <code>find()</code> method to find the first element in the document. Consider the following two tables:\n",
      "metadata": {}
    },
    {
      "cell_type": "code",
      "source": "%%html\n<h3>Rocket Launch </h3>\n\n<p>\n<table class='rocket'>\n  <tr>\n    <td>Flight No</td>\n    <td>Launch site</td> \n    <td>Payload mass</td>\n  </tr>\n  <tr>\n    <td>1</td>\n    <td>Florida</td>\n    <td>300 kg</td>\n  </tr>\n  <tr>\n    <td>2</td>\n    <td>Texas</td>\n    <td>94 kg</td>\n  </tr>\n  <tr>\n    <td>3</td>\n    <td>Florida </td>\n    <td>80 kg</td>\n  </tr>\n</table>\n</p>\n<p>\n\n<h3>Pizza Party  </h3>\n  \n    \n<table class='pizza'>\n  <tr>\n    <td>Pizza Place</td>\n    <td>Orders</td> \n    <td>Slices </td>\n   </tr>\n  <tr>\n    <td>Domino's Pizza</td>\n    <td>10</td>\n    <td>100</td>\n  </tr>\n  <tr>\n    <td>Little Caesars</td>\n    <td>12</td>\n    <td >144 </td>\n  </tr>\n  <tr>\n    <td>Papa John's </td>\n    <td>15 </td>\n    <td>165</td>\n  </tr>\n",
      "metadata": {},
      "execution_count": null,
      "outputs": []
    },
    {
      "cell_type": "markdown",
      "source": "We store the HTML as a Python string and assign <code>two_tables</code>:\n",
      "metadata": {}
    },
    {
      "cell_type": "code",
      "source": "two_tables=\"<h3>Rocket Launch </h3><p><table class='rocket'><tr><td>Flight No</td><td>Launch site</td> <td>Payload mass</td></tr><tr><td>1</td><td>Florida</td><td>300 kg</td></tr><tr><td>2</td><td>Texas</td><td>94 kg</td></tr><tr><td>3</td><td>Florida </td><td>80 kg</td></tr></table></p><p><h3>Pizza Party  </h3><table class='pizza'><tr><td>Pizza Place</td><td>Orders</td> <td>Slices </td></tr><tr><td>Domino's Pizza</td><td>10</td><td>100</td></tr><tr><td>Little Caesars</td><td>12</td><td >144 </td></tr><tr><td>Papa John's </td><td>15 </td><td>165</td></tr>\"",
      "metadata": {},
      "execution_count": null,
      "outputs": []
    },
    {
      "cell_type": "markdown",
      "source": "We create a <code>BeautifulSoup</code> object  <code>two_tables_bs</code>\n",
      "metadata": {}
    },
    {
      "cell_type": "code",
      "source": "two_tables_bs= BeautifulSoup(two_tables, 'html.parser')",
      "metadata": {},
      "execution_count": null,
      "outputs": []
    },
    {
      "cell_type": "markdown",
      "source": "We can find the first table using the tag name table\n",
      "metadata": {}
    },
    {
      "cell_type": "code",
      "source": "two_tables_bs.find(\"table\")",
      "metadata": {},
      "execution_count": null,
      "outputs": []
    },
    {
      "cell_type": "markdown",
      "source": "We can filter on the class attribute to find the second table, but because class is a keyword in Python, we add an underscore to differentiate them.\n",
      "metadata": {}
    },
    {
      "cell_type": "code",
      "source": "two_tables_bs.find(\"table\",class_='pizza')",
      "metadata": {},
      "execution_count": null,
      "outputs": []
    },
    {
      "cell_type": "markdown",
      "source": "<h2 id=\"DSCW\">Downloading And Scraping The Contents Of A Web Page</h2> \n",
      "metadata": {}
    },
    {
      "cell_type": "markdown",
      "source": "We Download the contents of the web page:\n",
      "metadata": {}
    },
    {
      "cell_type": "code",
      "source": "url = \"http://www.ibm.com\"",
      "metadata": {},
      "execution_count": null,
      "outputs": []
    },
    {
      "cell_type": "markdown",
      "source": "We use <code>get</code> to download the contents of the webpage in text format and store in a variable called <code>data</code>:\n",
      "metadata": {}
    },
    {
      "cell_type": "code",
      "source": "data  = requests.get(url).text ",
      "metadata": {},
      "execution_count": null,
      "outputs": []
    },
    {
      "cell_type": "markdown",
      "source": "We create a <code>BeautifulSoup</code> object using the <code>BeautifulSoup</code> constructor\n",
      "metadata": {}
    },
    {
      "cell_type": "code",
      "source": "soup = BeautifulSoup(data,\"html5lib\")  # create a soup object using the variable 'data'",
      "metadata": {},
      "execution_count": null,
      "outputs": []
    },
    {
      "cell_type": "markdown",
      "source": "Scrape all links\n",
      "metadata": {}
    },
    {
      "cell_type": "code",
      "source": "for link in soup.find_all('a',href=True):  # in html anchor/link is represented by the tag <a>\n\n    print(link.get('href'))\n",
      "metadata": {},
      "execution_count": null,
      "outputs": []
    },
    {
      "cell_type": "markdown",
      "source": "## Scrape  all images  Tags\n",
      "metadata": {}
    },
    {
      "cell_type": "code",
      "source": "for link in soup.find_all('img'):# in html image is represented by the tag <img>\n    print(link)\n    print(link.get('src'))",
      "metadata": {},
      "execution_count": null,
      "outputs": []
    },
    {
      "cell_type": "markdown",
      "source": "### Scrape data from HTML tables\n",
      "metadata": {}
    },
    {
      "cell_type": "code",
      "source": "#The below url contains an html table with data about colors and color codes.\nurl = \"https://cf-courses-data.s3.us.cloud-object-storage.appdomain.cloud/IBM-DA0321EN-SkillsNetwork/labs/datasets/HTMLColorCodes.html\"",
      "metadata": {},
      "execution_count": null,
      "outputs": []
    },
    {
      "cell_type": "markdown",
      "source": "Before proceeding to scrape a web site, you need to examine the contents and the way data is organized on the website. Open the above url in your browser and check how many rows and columns there are in the color table.\n",
      "metadata": {}
    },
    {
      "cell_type": "code",
      "source": "# get the contents of the webpage in text format and store in a variable called data\ndata  = requests.get(url).text",
      "metadata": {},
      "execution_count": null,
      "outputs": []
    },
    {
      "cell_type": "code",
      "source": "soup = BeautifulSoup(data,\"html5lib\")",
      "metadata": {},
      "execution_count": null,
      "outputs": []
    },
    {
      "cell_type": "code",
      "source": "#find a html table in the web page\ntable = soup.find('table') # in html table is represented by the tag <table>",
      "metadata": {},
      "execution_count": null,
      "outputs": []
    },
    {
      "cell_type": "code",
      "source": "#Get all rows from the table\nfor row in table.find_all('tr'): # in html table row is represented by the tag <tr>\n    # Get all columns in each row.\n    cols = row.find_all('td') # in html a column is represented by the tag <td>\n    color_name = cols[2].string # store the value in column 3 as color_name\n    color_code = cols[3].string # store the value in column 4 as color_code\n    print(\"{}--->{}\".format(color_name,color_code))",
      "metadata": {},
      "execution_count": null,
      "outputs": []
    },
    {
      "cell_type": "markdown",
      "source": "## Authors\n",
      "metadata": {}
    },
    {
      "cell_type": "markdown",
      "source": "Ramesh Sannareddy\n",
      "metadata": {}
    },
    {
      "cell_type": "markdown",
      "source": "### Other Contributors\n",
      "metadata": {}
    },
    {
      "cell_type": "markdown",
      "source": "Rav Ahuja\n",
      "metadata": {}
    },
    {
      "cell_type": "markdown",
      "source": "## Change Log\n",
      "metadata": {}
    },
    {
      "cell_type": "markdown",
      "source": "| Date (YYYY-MM-DD) | Version | Changed By                                               | Change Description |\n| ----------------- | ------- | -------------------------------------------------------- | ------------------ |\n| 2020-10-17        | 0.1     | Joseph Santarcangelo  Created initial version of the lab |                    |\n",
      "metadata": {}
    },
    {
      "cell_type": "markdown",
      "source": "Copyright © 2020 IBM Corporation. This notebook and its source code are released under the terms of the [MIT License](https://cognitiveclass.ai/mit-license/?utm_medium=Exinfluencer&utm_source=Exinfluencer&utm_content=000026UJ&utm_term=10006555&utm_id=NA-SkillsNetwork-Channel-SkillsNetworkCoursesIBMDeveloperSkillsNetworkPY0101ENSkillsNetwork19487395-2021-01-01).\n",
      "metadata": {}
    }
  ]
}